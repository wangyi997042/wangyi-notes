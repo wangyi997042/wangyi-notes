{
 "cells": [
  {
   "cell_type": "markdown",
   "id": "fc30f5b0",
   "metadata": {},
   "source": [
    "# 一个包含Python基础与实践的Jupyter Notebook文档\n",
    "本笔记本旨在帮助用户学习Python的基础知识，并通过实践巩固所学内容。"
   ]
  },
  {
   "cell_type": "markdown",
   "id": "e6cef515",
   "metadata": {},
   "source": [
    "## 导入必要的库\n",
    "导入Python标准库和常用的第三方库，例如os、sys、math、random等。"
   ]
  },
  {
   "cell_type": "code",
   "execution_count": null,
   "id": "3cbbb317",
   "metadata": {},
   "outputs": [],
   "source": [
    "# 导入必要的库\n",
    "import os\n",
    "import sys\n",
    "import math\n",
    "import random"
   ]
  },
  {
   "cell_type": "markdown",
   "id": "db512a60",
   "metadata": {},
   "source": [
    "## 基本数据类型操作\n",
    "展示Python中常见数据类型（如字符串、列表、字典、元组）的基本操作。"
   ]
  },
  {
   "cell_type": "code",
   "execution_count": null,
   "id": "c465d4af",
   "metadata": {},
   "outputs": [],
   "source": [
    "# 字符串操作\n",
    "text = \"Hello, Python!\"\n",
    "print(text.upper())\n",
    "print(text.lower())\n",
    "print(text.replace(\"Python\", \"World\"))\n",
    "\n",
    "# 列表操作\n",
    "numbers = [1, 2, 3, 4, 5]\n",
    "numbers.append(6)\n",
    "print(numbers)\n",
    "numbers.pop()\n",
    "print(numbers)\n",
    "\n",
    "# 字典操作\n",
    "person = {\"name\": \"Alice\", \"age\": 25}\n",
    "print(person[\"name\"])\n",
    "person[\"age\"] = 26\n",
    "print(person)\n",
    "\n",
    "# 元组操作\n",
    "coordinates = (10, 20)\n",
    "print(coordinates[0])"
   ]
  },
  {
   "cell_type": "markdown",
   "id": "108ee3b6",
   "metadata": {},
   "source": [
    "## 条件语句与循环\n",
    "编写if-else条件语句和for、while循环的示例代码。"
   ]
  },
  {
   "cell_type": "code",
   "execution_count": null,
   "id": "c3c909bc",
   "metadata": {},
   "outputs": [],
   "source": [
    "# 条件语句\n",
    "x = 10\n",
    "if x > 5:\n",
    "    print(\"x is greater than 5\")\n",
    "else:\n",
    "    print(\"x is less than or equal to 5\")\n",
    "\n",
    "# for循环\n",
    "for i in range(5):\n",
    "    print(f\"Iteration {i}\")\n",
    "\n",
    "# while循环\n",
    "count = 0\n",
    "while count < 3:\n",
    "    print(f\"Count is {count}\")\n",
    "    count += 1"
   ]
  },
  {
   "cell_type": "markdown",
   "id": "f64ccc4a",
   "metadata": {},
   "source": [
    "## 函数定义与调用\n",
    "定义一个或多个函数，并展示如何调用这些函数，包括带参数和返回值的函数。"
   ]
  },
  {
   "cell_type": "code",
   "execution_count": null,
   "id": "c5139483",
   "metadata": {},
   "outputs": [],
   "source": [
    "# 函数定义与调用\n",
    "def greet(name):\n",
    "    return f\"Hello, {name}!\"\n",
    "\n",
    "def add(a, b):\n",
    "    return a + b\n",
    "\n",
    "# 调用函数\n",
    "print(greet(\"Alice\"))\n",
    "print(add(3, 5))"
   ]
  },
  {
   "cell_type": "markdown",
   "id": "644addc2",
   "metadata": {},
   "source": [
    "## 文件操作\n",
    "演示如何使用Python进行文件的读写操作，包括文本文件和二进制文件。"
   ]
  },
  {
   "cell_type": "code",
   "execution_count": null,
   "id": "a1dd76aa",
   "metadata": {},
   "outputs": [],
   "source": [
    "# 文件操作\n",
    "# 写入文本文件\n",
    "with open(\"example.txt\", \"w\") as file:\n",
    "    file.write(\"This is a sample text file.\")\n",
    "\n",
    "# 读取文本文件\n",
    "with open(\"example.txt\", \"r\") as file:\n",
    "    content = file.read()\n",
    "    print(content)"
   ]
  },
  {
   "cell_type": "markdown",
   "id": "bd5e49d9",
   "metadata": {},
   "source": [
    "## 异常处理\n",
    "展示如何使用try-except块处理代码中的异常情况。"
   ]
  },
  {
   "cell_type": "code",
   "execution_count": null,
   "id": "bc10d74f",
   "metadata": {},
   "outputs": [],
   "source": [
    "# 异常处理\n",
    "try:\n",
    "    result = 10 / 0\n",
    "except ZeroDivisionError as e:\n",
    "    print(f\"Error: {e}\")\n",
    "finally:\n",
    "    print(\"Execution completed.\")"
   ]
  },
  {
   "cell_type": "markdown",
   "id": "22c556f0",
   "metadata": {},
   "source": [
    "## 使用第三方库示例\n",
    "使用一个或多个第三方库（如NumPy、Pandas或Matplotlib）完成简单的任务。"
   ]
  },
  {
   "cell_type": "code",
   "execution_count": null,
   "id": "fd8cc60a",
   "metadata": {},
   "outputs": [],
   "source": [
    "# 使用Pandas和Matplotlib\n",
    "import pandas as pd\n",
    "import matplotlib.pyplot as plt\n",
    "\n",
    "# 创建一个简单的DataFrame\n",
    "data = {\"Name\": [\"Alice\", \"Bob\", \"Charlie\"], \"Age\": [25, 30, 35]}\n",
    "df = pd.DataFrame(data)\n",
    "\n",
    "# 打印DataFrame\n",
    "print(df)\n",
    "\n",
    "# 绘制柱状图\n",
    "df.plot(kind=\"bar\", x=\"Name\", y=\"Age\")\n",
    "plt.show()"
   ]
  }
 ],
 "metadata": {
  "language_info": {
   "name": "python"
  }
 },
 "nbformat": 4,
 "nbformat_minor": 5
}
